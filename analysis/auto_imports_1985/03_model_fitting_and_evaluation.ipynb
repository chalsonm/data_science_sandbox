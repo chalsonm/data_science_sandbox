{
 "cells": [
  {
   "cell_type": "markdown",
   "metadata": {},
   "source": [
    "# Overview\n",
    "The purpose of this notebook is to perform model training and evaluation for a variety of configurations of the same model type\n",
    "\n",
    "## Experiment\n",
    "The current experiment is intended to demonstrate the efficacy of different methods for determining feature importance.  First we will train and evaluate a baseline Random Forest classifer, with all available features.  Then we will use multiple methods to determine the most important features for this model.  Then we will train and a series of experimental Random Forest classifier, each ignoring some of the available features.  The features that will be ignored will be the features previously determined to be the most important features.\n",
    "\n",
    "### Hypothesis\n",
    "Given a baseline classifier and full feature set, the performance (Precision-Recall metrics) of a similar model will be worse if the most important features are excluded.  Furthermore, one of the feature importance algorithms will do a better job than other algorithms at selecting the features for which model performance will be most degraded upon their removal."
   ]
  },
  {
   "cell_type": "markdown",
   "metadata": {},
   "source": [
    "# Bootstrap by using helper notebook to load modeling data set"
   ]
  },
  {
   "cell_type": "code",
   "execution_count": 1,
   "metadata": {},
   "outputs": [
    {
     "name": "stdout",
     "output_type": "stream",
     "text": [
      "<class 'pandas.core.frame.DataFrame'>\n",
      "RangeIndex: 205 entries, 0 to 204\n",
      "Data columns (total 26 columns):\n",
      " #   Column             Non-Null Count  Dtype  \n",
      "---  ------             --------------  -----  \n",
      " 0   symboling          205 non-null    object \n",
      " 1   normalized-losses  164 non-null    float64\n",
      " 2   make               205 non-null    float64\n",
      " 3   fuel-type          205 non-null    float64\n",
      " 4   aspiration         205 non-null    float64\n",
      " 5   num-of-doors       203 non-null    float64\n",
      " 6   body-style         205 non-null    float64\n",
      " 7   drive-wheels       205 non-null    float64\n",
      " 8   engine-location    205 non-null    float64\n",
      " 9   wheel-base         205 non-null    float64\n",
      " 10  length             205 non-null    float64\n",
      " 11  width              205 non-null    float64\n",
      " 12  height             205 non-null    float64\n",
      " 13  curb-weight        205 non-null    float64\n",
      " 14  engine-type        205 non-null    float64\n",
      " 15  num-of-cylinders   205 non-null    float64\n",
      " 16  engine-size        205 non-null    float64\n",
      " 17  fuel-system        205 non-null    float64\n",
      " 18  bore               201 non-null    float64\n",
      " 19  stroke             201 non-null    float64\n",
      " 20  compression-ratio  205 non-null    float64\n",
      " 21  horsepower         203 non-null    float64\n",
      " 22  peak-rpm           203 non-null    float64\n",
      " 23  city-mpg           205 non-null    float64\n",
      " 24  highway-mpg        205 non-null    float64\n",
      " 25  price              201 non-null    float64\n",
      "dtypes: float64(25), object(1)\n",
      "memory usage: 41.8+ KB\n",
      "compression-ratio\n",
      "num-of-cylinders\n",
      "height\n",
      "length\n",
      "fuel-type\n",
      "engine-location\n",
      "fuel-system\n",
      "width\n",
      "drive-wheels\n",
      "wheel-base\n",
      "body-style\n",
      "stroke\n",
      "city-mpg\n",
      "curb-weight\n",
      "aspiration\n",
      "engine-type\n",
      "bore\n",
      "engine-size\n",
      "peak-rpm\n",
      "num-of-doors\n",
      "highway-mpg\n",
      "horsepower\n",
      "(148, 26)\n",
      "(142, 26)\n",
      "<class 'pandas.core.frame.DataFrame'>\n",
      "Int64Index: 142 entries, 21 to 204\n",
      "Data columns (total 26 columns):\n",
      " #   Column             Non-Null Count  Dtype  \n",
      "---  ------             --------------  -----  \n",
      " 0   symboling          142 non-null    object \n",
      " 1   normalized-losses  129 non-null    float64\n",
      " 2   make               142 non-null    float64\n",
      " 3   fuel-type          142 non-null    float64\n",
      " 4   aspiration         142 non-null    float64\n",
      " 5   num-of-doors       142 non-null    float64\n",
      " 6   body-style         142 non-null    float64\n",
      " 7   drive-wheels       142 non-null    float64\n",
      " 8   engine-location    142 non-null    float64\n",
      " 9   wheel-base         142 non-null    float64\n",
      " 10  length             142 non-null    float64\n",
      " 11  width              142 non-null    float64\n",
      " 12  height             142 non-null    float64\n",
      " 13  curb-weight        142 non-null    float64\n",
      " 14  engine-type        142 non-null    float64\n",
      " 15  num-of-cylinders   142 non-null    float64\n",
      " 16  engine-size        142 non-null    float64\n",
      " 17  fuel-system        142 non-null    float64\n",
      " 18  bore               142 non-null    float64\n",
      " 19  stroke             142 non-null    float64\n",
      " 20  compression-ratio  142 non-null    float64\n",
      " 21  horsepower         142 non-null    float64\n",
      " 22  peak-rpm           142 non-null    float64\n",
      " 23  city-mpg           142 non-null    float64\n",
      " 24  highway-mpg        142 non-null    float64\n",
      " 25  price              142 non-null    float64\n",
      "dtypes: float64(25), object(1)\n",
      "memory usage: 30.0+ KB\n",
      "<class 'pandas.core.frame.DataFrame'>\n",
      "Int64Index: 95 entries, 186 to 191\n",
      "Data columns (total 22 columns):\n",
      " #   Column             Non-Null Count  Dtype  \n",
      "---  ------             --------------  -----  \n",
      " 0   compression-ratio  95 non-null     float64\n",
      " 1   num-of-cylinders   95 non-null     float64\n",
      " 2   height             95 non-null     float64\n",
      " 3   length             95 non-null     float64\n",
      " 4   fuel-type          95 non-null     float64\n",
      " 5   engine-location    95 non-null     float64\n",
      " 6   fuel-system        95 non-null     float64\n",
      " 7   width              95 non-null     float64\n",
      " 8   drive-wheels       95 non-null     float64\n",
      " 9   wheel-base         95 non-null     float64\n",
      " 10  body-style         95 non-null     float64\n",
      " 11  stroke             95 non-null     float64\n",
      " 12  city-mpg           95 non-null     float64\n",
      " 13  curb-weight        95 non-null     float64\n",
      " 14  aspiration         95 non-null     float64\n",
      " 15  engine-type        95 non-null     float64\n",
      " 16  bore               95 non-null     float64\n",
      " 17  engine-size        95 non-null     float64\n",
      " 18  peak-rpm           95 non-null     float64\n",
      " 19  num-of-doors       95 non-null     float64\n",
      " 20  highway-mpg        95 non-null     float64\n",
      " 21  horsepower         95 non-null     float64\n",
      "dtypes: float64(22)\n",
      "memory usage: 17.1 KB\n",
      "<class 'pandas.core.frame.DataFrame'>\n",
      "Int64Index: 47 entries, 147 to 181\n",
      "Data columns (total 22 columns):\n",
      " #   Column             Non-Null Count  Dtype  \n",
      "---  ------             --------------  -----  \n",
      " 0   compression-ratio  47 non-null     float64\n",
      " 1   num-of-cylinders   47 non-null     float64\n",
      " 2   height             47 non-null     float64\n",
      " 3   length             47 non-null     float64\n",
      " 4   fuel-type          47 non-null     float64\n",
      " 5   engine-location    47 non-null     float64\n",
      " 6   fuel-system        47 non-null     float64\n",
      " 7   width              47 non-null     float64\n",
      " 8   drive-wheels       47 non-null     float64\n",
      " 9   wheel-base         47 non-null     float64\n",
      " 10  body-style         47 non-null     float64\n",
      " 11  stroke             47 non-null     float64\n",
      " 12  city-mpg           47 non-null     float64\n",
      " 13  curb-weight        47 non-null     float64\n",
      " 14  aspiration         47 non-null     float64\n",
      " 15  engine-type        47 non-null     float64\n",
      " 16  bore               47 non-null     float64\n",
      " 17  engine-size        47 non-null     float64\n",
      " 18  peak-rpm           47 non-null     float64\n",
      " 19  num-of-doors       47 non-null     float64\n",
      " 20  highway-mpg        47 non-null     float64\n",
      " 21  horsepower         47 non-null     float64\n",
      "dtypes: float64(22)\n",
      "memory usage: 8.4 KB\n"
     ]
    }
   ],
   "source": [
    "% run 02_modeling_data_preparation.ipynb"
   ]
  },
  {
   "cell_type": "markdown",
   "metadata": {},
   "source": [
    "## Show all symbols in scope after execution of bootstrap notebook"
   ]
  },
  {
   "cell_type": "code",
   "execution_count": 2,
   "metadata": {},
   "outputs": [
    {
     "name": "stdout",
     "output_type": "stream",
     "text": [
      "DEFAULT_FIGSIZE\n",
      "In\n",
      "Out\n",
      "X_test\n",
      "X_train\n",
      "_\n",
      "__\n",
      "___\n",
      "__builtin__\n",
      "__builtins__\n",
      "__doc__\n",
      "__loader__\n",
      "__name__\n",
      "__package__\n",
      "__spec__\n",
      "_dh\n",
      "_i\n",
      "_i1\n",
      "_i2\n",
      "_ih\n",
      "_ii\n",
      "_iii\n",
      "_oh\n",
      "all_cols\n",
      "col\n",
      "data_values\n",
      "exit\n",
      "feature_cols\n",
      "fetch_openml\n",
      "full_data\n",
      "full_df\n",
      "get_ipython\n",
      "ignore_feature_cols\n",
      "min_examples_count\n",
      "modeling_df\n",
      "np\n",
      "pd\n",
      "quit\n",
      "response_col\n",
      "response_value_counts\n",
      "train_test_split\n",
      "valid_response_values\n",
      "y_test\n",
      "y_train\n"
     ]
    }
   ],
   "source": [
    "for symbol in dir():\n",
    "    print(symbol)"
   ]
  },
  {
   "cell_type": "markdown",
   "metadata": {},
   "source": [
    "# Train and Evaluate the Baseline Classifier"
   ]
  },
  {
   "cell_type": "code",
   "execution_count": 3,
   "metadata": {},
   "outputs": [],
   "source": [
    "from sklearn.ensemble import RandomForestClassifier\n",
    "from sklearn.inspection import permutation_importance\n",
    "from sklearn.metrics import precision_recall_fscore_support"
   ]
  },
  {
   "cell_type": "code",
   "execution_count": 4,
   "metadata": {},
   "outputs": [
    {
     "data": {
      "text/plain": [
       "RandomForestClassifier(bootstrap=True, ccp_alpha=0.0, class_weight='balanced',\n",
       "                       criterion='gini', max_depth=None, max_features='auto',\n",
       "                       max_leaf_nodes=None, max_samples=None,\n",
       "                       min_impurity_decrease=0.0, min_impurity_split=None,\n",
       "                       min_samples_leaf=1, min_samples_split=2,\n",
       "                       min_weight_fraction_leaf=0.0, n_estimators=100,\n",
       "                       n_jobs=None, oob_score=False, random_state=100,\n",
       "                       verbose=0, warm_start=False)"
      ]
     },
     "execution_count": 4,
     "metadata": {},
     "output_type": "execute_result"
    }
   ],
   "source": [
    "clf = RandomForestClassifier(random_state=100, class_weight='balanced')\n",
    "clf.fit(X_train, y_train)"
   ]
  },
  {
   "cell_type": "code",
   "execution_count": 5,
   "metadata": {},
   "outputs": [],
   "source": [
    "def evaluate_RF(clf, X_test, y_test):\n",
    "    y_pred = clf.predict(X_test)\n",
    "    \n",
    "    class_labels = y_test.value_counts().index.tolist()\n",
    "    (precision, recall, f1_score, support) = precision_recall_fscore_support(y_test, y_pred, labels=class_labels)\n",
    "    pr_df = pd.DataFrame({\n",
    "        'class': class_labels,\n",
    "        'precision': precision, \n",
    "        'recall': recall, \n",
    "        'f1_score': f1_score, \n",
    "        'support': support}).set_index('class')\n",
    "    print(pr_df)"
   ]
  },
  {
   "cell_type": "code",
   "execution_count": 6,
   "metadata": {},
   "outputs": [
    {
     "name": "stdout",
     "output_type": "stream",
     "text": [
      "       precision    recall  f1_score  support\n",
      "class                                        \n",
      "19.0    0.909091  1.000000  0.952381       10\n",
      "12.0    1.000000  1.000000  1.000000        6\n",
      "5.0     1.000000  1.000000  1.000000        4\n",
      "20.0    1.000000  1.000000  1.000000        4\n",
      "13.0    1.000000  0.750000  0.857143        4\n",
      "21.0    0.800000  1.000000  0.888889        4\n",
      "11.0    0.750000  0.750000  0.750000        4\n",
      "8.0     1.000000  0.750000  0.857143        4\n",
      "18.0    1.000000  1.000000  1.000000        4\n",
      "4.0     0.666667  0.666667  0.666667        3\n"
     ]
    }
   ],
   "source": [
    "evaluate_RF(clf, X_test, y_test)"
   ]
  },
  {
   "cell_type": "code",
   "execution_count": 7,
   "metadata": {},
   "outputs": [],
   "source": [
    "def get_default_feature_importance(clf, X_train):\n",
    "    feature_importance_df = pd.DataFrame({\n",
    "        'feature_name': X_train.columns, \n",
    "        'importance': clf.feature_importances_})\n",
    "    print(feature_importance_df.sort_values('importance', ascending=False))"
   ]
  },
  {
   "cell_type": "code",
   "execution_count": 8,
   "metadata": {},
   "outputs": [
    {
     "name": "stdout",
     "output_type": "stream",
     "text": [
      "         feature_name  importance\n",
      "11             stroke    0.111848\n",
      "7               width    0.086463\n",
      "18           peak-rpm    0.080046\n",
      "2              height    0.079216\n",
      "9          wheel-base    0.074221\n",
      "13        curb-weight    0.072357\n",
      "16               bore    0.070489\n",
      "3              length    0.069574\n",
      "17        engine-size    0.059706\n",
      "15        engine-type    0.059583\n",
      "6         fuel-system    0.054054\n",
      "0   compression-ratio    0.042041\n",
      "21         horsepower    0.041399\n",
      "20        highway-mpg    0.025147\n",
      "12           city-mpg    0.024443\n",
      "8        drive-wheels    0.019452\n",
      "19       num-of-doors    0.009727\n",
      "10         body-style    0.009712\n",
      "14         aspiration    0.004058\n",
      "1    num-of-cylinders    0.003849\n",
      "4           fuel-type    0.002615\n",
      "5     engine-location    0.000000\n"
     ]
    }
   ],
   "source": [
    "get_default_feature_importance(clf, X_train)"
   ]
  },
  {
   "cell_type": "code",
   "execution_count": 10,
   "metadata": {},
   "outputs": [],
   "source": [
    "def get_permutation_feature_importance(clf, X_test, y_test):\n",
    "    result = permutation_importance(clf, X_test, y_test, random_state=100)\n",
    "    feature_importance_df = pd.DataFrame({\n",
    "        'feature_name': X_test.columns, \n",
    "        'importance': result['importances_mean']})\n",
    "    print(feature_importance_df.sort_values('importance', ascending=False))"
   ]
  },
  {
   "cell_type": "code",
   "execution_count": 11,
   "metadata": {},
   "outputs": [
    {
     "name": "stdout",
     "output_type": "stream",
     "text": [
      "         feature_name  importance\n",
      "6         fuel-system    0.021277\n",
      "7               width    0.021277\n",
      "9          wheel-base    0.017021\n",
      "11             stroke    0.017021\n",
      "21         horsepower    0.008511\n",
      "5     engine-location    0.000000\n",
      "4           fuel-type    0.000000\n",
      "20        highway-mpg    0.000000\n",
      "19       num-of-doors    0.000000\n",
      "17        engine-size    0.000000\n",
      "16               bore    0.000000\n",
      "15        engine-type    0.000000\n",
      "14         aspiration    0.000000\n",
      "13        curb-weight    0.000000\n",
      "12           city-mpg    0.000000\n",
      "1    num-of-cylinders    0.000000\n",
      "10         body-style    0.000000\n",
      "8        drive-wheels    0.000000\n",
      "3              length    0.000000\n",
      "0   compression-ratio    0.000000\n",
      "2              height   -0.004255\n",
      "18           peak-rpm   -0.008511\n"
     ]
    }
   ],
   "source": [
    "get_permutation_feature_importance(clf, X_test, y_test)"
   ]
  }
 ],
 "metadata": {
  "kernelspec": {
   "display_name": "conda_python3",
   "language": "python",
   "name": "conda_python3"
  },
  "language_info": {
   "codemirror_mode": {
    "name": "ipython",
    "version": 3
   },
   "file_extension": ".py",
   "mimetype": "text/x-python",
   "name": "python",
   "nbconvert_exporter": "python",
   "pygments_lexer": "ipython3",
   "version": "3.6.5"
  }
 },
 "nbformat": 4,
 "nbformat_minor": 4
}
