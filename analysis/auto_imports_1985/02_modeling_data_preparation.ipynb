{
 "cells": [
  {
   "cell_type": "markdown",
   "metadata": {},
   "source": [
    "# Overview\n",
    "The purpose of this notebook is to implement data preparation and detailed analysis specifically for the chosen modeling task: predict car make from technical attributes (no price or insurance info)\n",
    "\n",
    "## Modeling Task\n",
    "The motivating objective for this modeling task is to compare the efficacy of two different approaches for characterising \"feature importance\" for Random Forest classifiers.  A similar analysis is demonstrated here: https://scikit-learn.org/stable/auto_examples/inspection/plot_permutation_importance.html \n",
    "I will perform a similar set of tasks, but I will do so on the 1985 Auto Imports database.\n",
    "\n",
    "Upon a cursory reading of the description of the data set (https://www.openml.org/d/9), I noticed (based on intuition) that many of the technical attributes are probably strongly correlated due to constrains of physics, engineering, manufacturing, etc.:\n",
    "\n",
    "15. engine-type: dohc, dohcv, l, ohc, ohcf, ohcv, rotor.\n",
    "16. num-of-cylinders: eight, five, four, six, three, twelve, two.\n",
    "17. engine-size: continuous from 61 to 326.\n",
    "18. fuel-system: 1bbl, 2bbl, 4bbl, idi, mfi, mpfi, spdi, spfi.\n",
    "19. bore: continuous from 2.54 to 3.94.\n",
    "20. stroke: continuous from 2.07 to 4.17.\n",
    "21. compression-ratio: continuous from 7 to 23.\n",
    "22. horsepower: continuous from 48 to 288.\n",
    "23. peak-rpm: continuous from 4150 to 6600.\n",
    "\n",
    "If, in fact, many of these features are correlated, it may have interesting impacts on the experiment.  It may be necessary to take measures to reduce the number of correlated features.\n",
    "\n",
    "I'm specifically intersted in doing a demonstration of a multi-class classifier.  Therefore, I will use the \"make\" attribute (attribute 3) as the response variable.\n",
    "\n",
    "Fore model features, initially, I will consider using all features other than the monetary-related features (1. symboling; 2. normalized-losses; 26. price)\n",
    "\n",
    "## TODO\n",
    "- Consider custom feature encoding\n",
    "- Transform data into supervised learning structure: reponse vector + design matrix\n",
    "- Make partitions for Train, Test, Validation (note, there are only 205 rows in whole data set)"
   ]
  }
 ],
 "metadata": {
  "kernelspec": {
   "display_name": "conda_python3",
   "language": "python",
   "name": "conda_python3"
  },
  "language_info": {
   "codemirror_mode": {
    "name": "ipython",
    "version": 3
   },
   "file_extension": ".py",
   "mimetype": "text/x-python",
   "name": "python",
   "nbconvert_exporter": "python",
   "pygments_lexer": "ipython3",
   "version": "3.6.5"
  }
 },
 "nbformat": 4,
 "nbformat_minor": 4
}
